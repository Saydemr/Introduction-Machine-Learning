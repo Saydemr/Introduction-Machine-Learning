{
 "cells": [
  {
   "cell_type": "markdown",
   "metadata": {},
   "source": [
    "# SLP and MLP in Pytorch\n",
    "\n"
   ]
  },
  {
   "cell_type": "markdown",
   "metadata": {},
   "source": [
    "## Import Necessary modules"
   ]
  },
  {
   "cell_type": "code",
   "execution_count": 4,
   "metadata": {},
   "outputs": [],
   "source": [
    "import torch\n",
    "import torchvision.transforms as transforms\n",
    "import torchvision.datasets as datasets\n",
    "import torch.nn as nn                              # neural network module\n",
    "import torch.nn.functional as F\n",
    "import torch.optim as optim                        # optimization module\n",
    "import torch.optim.lr_scheduler as lr_scheduler\n",
    "from torch.utils.data import Dataset\n",
    "\n",
    "from torch.utils.tensorboard import SummaryWriter  # logging module\n",
    "from torchvision.utils import make_grid, save_image\n",
    "\n",
    "import numpy as np\n",
    "import time"
   ]
  },
  {
   "cell_type": "code",
   "execution_count": 5,
   "metadata": {},
   "outputs": [
    {
     "name": "stdout",
     "output_type": "stream",
     "text": [
      "1.10.0+cu102\n"
     ]
    }
   ],
   "source": [
    "print(torch.__version__)"
   ]
  },
  {
   "cell_type": "markdown",
   "metadata": {},
   "source": [
    "## Custom Dataset loader"
   ]
  },
  {
   "cell_type": "code",
   "execution_count": 6,
   "metadata": {},
   "outputs": [],
   "source": [
    "class CustomDataset(Dataset):\n",
    "    \"\"\" Custom dataset for flattened 10x10 csv dataset \"\"\"\n",
    "\n",
    "    # Initialize data\n",
    "    def __init__(self, fname, transform=None):\n",
    "        self.xy = np.genfromtxt(fname, delimiter=',', skip_header=1, dtype=np.uint8)\n",
    "        self.transform = transform\n",
    "\n",
    "    def __getitem__(self, index):\n",
    "        x = self.xy[index, 1:].reshape(10,10,1) # H W C\n",
    "        y = self.xy[index, 0]\n",
    "        y = torch.as_tensor(y, dtype=torch.long)\n",
    "        if self.transform:\n",
    "            x = self.transform(x)\n",
    "        return x, y\n",
    "\n",
    "    def __len__(self):\n",
    "        return self.xy.shape[0]"
   ]
  },
  {
   "cell_type": "markdown",
   "metadata": {},
   "source": [
    "## Parameters and Hyperparameters"
   ]
  },
  {
   "cell_type": "code",
   "execution_count": 7,
   "metadata": {},
   "outputs": [],
   "source": [
    "# torch parameters\n",
    "SEED = 60            # reproducability\n",
    "# NN Parameters\n",
    "EPOCHS = 200         # number of epochs\n",
    "LR = 0.01            # learning rate\n",
    "MOMENTUM = 0.9       # momentum for the SGD optimizer (how much of the past gradients)\n",
    "GAMMA = 0.1          # learning rate scheduler (how much to decrease learning rate)\n",
    "BATCH_SIZE = 64      # number of images to load per iteration"
   ]
  },
  {
   "cell_type": "code",
   "execution_count": 8,
   "metadata": {},
   "outputs": [
    {
     "data": {
      "text/plain": [
       "<torch._C.Generator at 0x27d4e8ab5b0>"
      ]
     },
     "execution_count": 8,
     "metadata": {},
     "output_type": "execute_result"
    }
   ],
   "source": [
    "# manual seed to reproduce the same results\n",
    "torch.manual_seed(SEED)"
   ]
  },
  {
   "cell_type": "code",
   "execution_count": 9,
   "metadata": {},
   "outputs": [],
   "source": [
    "# transform input data type from ndarray to tensor values between 0,1\n",
    "transform = transforms.Compose([\n",
    "    transforms.ToTensor(), \n",
    "])"
   ]
  },
  {
   "cell_type": "code",
   "execution_count": 10,
   "metadata": {},
   "outputs": [],
   "source": [
    "# read the datasets\n",
    "tr_dataset   = CustomDataset('data/training.csv', transform=transform)\n",
    "# prepare loader for the training dataset\n",
    "train_loader = torch.utils.data.DataLoader(tr_dataset, batch_size=BATCH_SIZE, shuffle=True, num_workers=0)\n",
    "\n",
    "# download the dataset if not already downloaded and set necessery transforms\n",
    "test_dataset = CustomDataset('data/testing.csv', transform=transform)\n",
    "# prepare loader for the test dataset\n",
    "test_loader = torch.utils.data.DataLoader(test_dataset, batch_size=BATCH_SIZE, shuffle=False, num_workers=0)"
   ]
  },
  {
   "cell_type": "code",
   "execution_count": 79,
   "metadata": {},
   "outputs": [
    {
     "name": "stdout",
     "output_type": "stream",
     "text": [
      "1\n"
     ]
    }
   ],
   "source": [
    "w = 3\n",
    "kernel_size = 2\n",
    "stride =  4\n",
    "padding = 0\n",
    "nextw = (( w - kernel_size  + padding * 2) // stride) + 1\n",
    "print(nextw) "
   ]
  },
  {
   "cell_type": "markdown",
   "metadata": {},
   "source": [
    "## Define the Network"
   ]
  },
  {
   "cell_type": "code",
   "execution_count": 80,
   "metadata": {},
   "outputs": [],
   "source": [
    "class Network1(nn.Module):\n",
    "    \n",
    "    # [ ( W - kernel_size + 2 * padding ) / stride ] + 1\n",
    "    def __init__(self):\n",
    "        super(Network1, self).__init__()\n",
    "        self.conv1 = nn.Conv2d( in_channels = 1,\n",
    "                                out_channels= 16,\n",
    "                                kernel_size = 2,\n",
    "                                stride = 4,\n",
    "                                padding = 0 )\n",
    "        self.conv2 = nn.Conv2d( in_channels = 16,\n",
    "                                out_channels= 32,\n",
    "                                kernel_size = 2,\n",
    "                                stride = 4,\n",
    "                                padding = 0 ) \n",
    "        \n",
    "        self.fcl    = nn.Linear(32*1*1, 10)\n",
    "\n",
    "    def forward(self,x):\n",
    "        x = torch.relu(self.conv1(x))\n",
    "        x = torch.relu(self.conv2(x))\n",
    "        x = torch.flatten(x, 1)\n",
    "        x = self.fcl(x)\n",
    "        return torch.log_softmax(x, dim=1)\n",
    "\n",
    "class Network2(nn.Module):\n",
    "    def __init__(self):\n",
    "        super(Network2, self).__init__()\n",
    "        # [( W - kernel_size + 2*padding ) / stride] + 1\n",
    "        self.conv1 = nn.Conv2d( in_channels = 1,\n",
    "                                out_channels= 16,\n",
    "                                kernel_size = 3,\n",
    "                                stride = 2,\n",
    "                                padding = 3 )\n",
    "       # [( 10 - 3 + 2*2 ) / 2] + 1 = 6\n",
    "        self.fcl    = nn.Linear(16*7*7, 10)\n",
    "\n",
    "    def forward(self,x):\n",
    "        x = torch.relu(self.conv1(x))\n",
    "        x = torch.flatten(x, 1)\n",
    "        x = self.fcl(x)\n",
    "        return torch.log_softmax(x, dim=1)\n",
    "\n",
    "class Network3(nn.Module):\n",
    "    def __init__(self):\n",
    "        super(Network3, self).__init__()\n",
    "        # [( W - kernel_size + 2*padding ) / stride] + 1\n",
    "        self.relu = nn.LeakyReLU(0.2, inplace=True)\n",
    "        self.conv1 = nn.Conv2d( in_channels = 1,\n",
    "                                out_channels= 16,\n",
    "                                kernel_size = 2,\n",
    "                                stride = 4,\n",
    "                                padding = 0 )\n",
    "       # [( 10 - 3 + 2*2 ) / 2] + 1 = 6\n",
    "        self.fcl    = nn.Linear(16*3*3, 10)\n",
    "\n",
    "    def forward(self,x):\n",
    "        x = self.relu(self.conv1(x))\n",
    "        x = torch.flatten(x, 1)\n",
    "        x = self.fcl(x)\n",
    "        return torch.log_softmax(x, dim=1)\n",
    "        "
   ]
  },
  {
   "cell_type": "markdown",
   "metadata": {},
   "source": [
    "## Create a network instance and move it to the device you want to run computations on"
   ]
  },
  {
   "cell_type": "code",
   "execution_count": 81,
   "metadata": {},
   "outputs": [
    {
     "name": "stdout",
     "output_type": "stream",
     "text": [
      "conv1.weight torch.Size([16, 1, 2, 2])\n",
      "conv1.bias torch.Size([16])\n",
      "conv2.weight torch.Size([32, 16, 2, 2])\n",
      "conv2.bias torch.Size([32])\n",
      "fcl.weight torch.Size([10, 32])\n",
      "fcl.bias torch.Size([10])\n",
      "CUDA is available\n"
     ]
    },
    {
     "data": {
      "text/plain": [
       "Network1(\n",
       "  (conv1): Conv2d(1, 16, kernel_size=(2, 2), stride=(4, 4))\n",
       "  (conv2): Conv2d(16, 32, kernel_size=(2, 2), stride=(4, 4))\n",
       "  (fcl): Linear(in_features=32, out_features=10, bias=True)\n",
       ")"
      ]
     },
     "execution_count": 81,
     "metadata": {},
     "output_type": "execute_result"
    }
   ],
   "source": [
    "# create the network\n",
    "net = Network3()\n",
    "\n",
    "# print network parameter names and their size\n",
    "for name, param in net.named_parameters():\n",
    "  print(name, param.size())\n",
    "\n",
    "# check if CUDA is available\n",
    "cuda = torch.cuda.is_available()  \n",
    "device = torch.device(\"cuda:0\" if cuda else \"cpu\")\n",
    "if cuda:\n",
    "    print(\"CUDA is available\")\n",
    "\n",
    "# if cuda is available move the network to gpu\n",
    "net.to(device)\n"
   ]
  },
  {
   "cell_type": "markdown",
   "metadata": {},
   "source": [
    "## Specify the loss function and the optimizer"
   ]
  },
  {
   "cell_type": "code",
   "execution_count": 82,
   "metadata": {},
   "outputs": [],
   "source": [
    "# specify the loss to be used\n",
    "# softmax is internally computed.\n",
    "loss_fn = nn.CrossEntropyLoss()\n",
    "# specify the optimizer to update the weights during backward pass\n",
    "optimizer = optim.SGD(net.parameters(), lr=LR, momentum=MOMENTUM)\n",
    "# change learning rate over time\n",
    "scheduler = lr_scheduler.StepLR(optimizer, step_size=100, gamma=GAMMA)\n"
   ]
  },
  {
   "cell_type": "markdown",
   "metadata": {},
   "source": [
    "## Define training function"
   ]
  },
  {
   "cell_type": "code",
   "execution_count": 83,
   "metadata": {},
   "outputs": [],
   "source": [
    "def train_net():\n",
    "  # put the network in training mode\n",
    "  net.train()\n",
    "  # keep record of the loss value\n",
    "  epoch_loss = 0.0\n",
    "  # use training data as batches\n",
    "  for xt, rt in train_loader:\n",
    "    # move training instances and corresponding labels into gpu if cuda is available\n",
    "    xt, rt = xt.to(device), rt.to(device)\n",
    "    # clear the previously accumulated gradients\n",
    "    optimizer.zero_grad()\n",
    "    # forward the network\n",
    "    yt = net(xt)\n",
    "    # calculate loss\n",
    "    loss = loss_fn(yt, rt)\n",
    "    # make a backward pass, calculate gradients\n",
    "    loss.backward()\n",
    "    # update weights\n",
    "    optimizer.step()\n",
    "    # accumulate loss\n",
    "    epoch_loss += loss.item()\n",
    "  return epoch_loss\n",
    "  "
   ]
  },
  {
   "cell_type": "markdown",
   "metadata": {},
   "source": [
    "## Define test function"
   ]
  },
  {
   "cell_type": "code",
   "execution_count": 84,
   "metadata": {},
   "outputs": [],
   "source": [
    "def eval_net(loader):\n",
    "  # put the network in evaluation mode\n",
    "  net.eval()\n",
    "  # keep record of the loss value\n",
    "  total_loss = 0.0\n",
    "  # number of correctly classified instances\n",
    "  correct = 0\n",
    "  # disable gradient tracking\n",
    "  with torch.no_grad():\n",
    "    for xt, rt in loader:\n",
    "      # move training instances and corresponding labels into gpu if cuda is available\n",
    "      xt, rt = xt.to(device), rt.to(device)\n",
    "      # save_image(xt, f'images/sample_grid.png')  # save 8 images\n",
    "      # x = 8/0\n",
    "      # forward the network\n",
    "      yt = net(xt)\n",
    "      # calculate loss\n",
    "      loss = loss_fn(yt, rt)\n",
    "      # accumulate loss\n",
    "      total_loss += loss.item()\n",
    "      # get predicted classes\n",
    "      pred = yt.argmax(dim=1)\n",
    "      # accumulate correctly classified image counts\n",
    "      correct += (pred == rt).sum().item()\n",
    "      #correct += pred.eq(rt.view_as(pred)).sum().item()\n",
    "  return correct/len(loader.dataset), total_loss \n",
    "  "
   ]
  },
  {
   "cell_type": "markdown",
   "metadata": {},
   "source": [
    "## 9.Train the network"
   ]
  },
  {
   "cell_type": "code",
   "execution_count": 85,
   "metadata": {},
   "outputs": [
    {
     "name": "stdout",
     "output_type": "stream",
     "text": [
      "Epoch 1 Tr Acc: 0.1 Tt_Ac 0.1\n",
      "Epoch 11 Tr Acc: 0.373 Tt_Ac 0.349\n",
      "Epoch 21 Tr Acc: 0.524 Tt_Ac 0.447\n",
      "Epoch 31 Tr Acc: 0.562 Tt_Ac 0.491\n",
      "Epoch 41 Tr Acc: 0.608 Tt_Ac 0.519\n",
      "Epoch 51 Tr Acc: 0.62 Tt_Ac 0.542\n",
      "Epoch 61 Tr Acc: 0.638 Tt_Ac 0.551\n",
      "Epoch 71 Tr Acc: 0.652 Tt_Ac 0.562\n",
      "Epoch 81 Tr Acc: 0.66 Tt_Ac 0.549\n",
      "Epoch 91 Tr Acc: 0.673 Tt_Ac 0.581\n",
      "Epoch 101 Tr Acc: 0.703 Tt_Ac 0.588\n",
      "Epoch 111 Tr Acc: 0.701 Tt_Ac 0.591\n",
      "Epoch 121 Tr Acc: 0.705 Tt_Ac 0.591\n",
      "Epoch 131 Tr Acc: 0.706 Tt_Ac 0.597\n",
      "Epoch 141 Tr Acc: 0.708 Tt_Ac 0.596\n",
      "Epoch 151 Tr Acc: 0.707 Tt_Ac 0.597\n",
      "Epoch 161 Tr Acc: 0.711 Tt_Ac 0.599\n",
      "Epoch 171 Tr Acc: 0.713 Tt_Ac 0.597\n",
      "Epoch 181 Tr Acc: 0.713 Tt_Ac 0.597\n",
      "Epoch 191 Tr Acc: 0.715 Tt_Ac 0.602\n",
      "Epoch 201 Tr Acc: 0.716 Tt_Ac 0.602\n"
     ]
    }
   ],
   "source": [
    "# initialize the logger instance\n",
    "# by default creates run directory inside current folder\n",
    "writer = SummaryWriter()           \n",
    "# train the network\n",
    "for epoch in range(1,EPOCHS+2):\n",
    "  # train network for one epoch\n",
    "  train_net()\n",
    "  scheduler.step()\n",
    "  # get accuracy and loss on the training dataset\n",
    "  tr_ac, tr_loss = eval_net(train_loader)\n",
    "  # get accuracy and loss on the test dataset\n",
    "  tt_ac, tt_loss = eval_net(test_loader)\n",
    "  # save stats\n",
    "  writer.add_scalars(\"Loss\", {\"tr_loss\": tr_loss, \"tt_loss\":tt_loss} , epoch)\n",
    "  writer.add_scalars(\"Accuracy\", {\"tr_acc\": tr_ac, \"tt_acc\":tt_ac}, epoch)\n",
    "\n",
    "  if (epoch-1) % 10 == 0:\n",
    "    print(\"Epoch\", epoch, \"Tr Acc:\",tr_ac, \"Tt_Ac\", tt_ac)\n",
    "\n",
    "\n",
    "  writer.flush()\n",
    "writer.close()\n"
   ]
  },
  {
   "cell_type": "markdown",
   "metadata": {},
   "source": [
    "## Save the model"
   ]
  },
  {
   "cell_type": "code",
   "execution_count": 86,
   "metadata": {},
   "outputs": [],
   "source": [
    "# save the network model\n",
    "\n",
    "torch.save(net.state_dict(), 'model/slp.pth')\n"
   ]
  },
  {
   "cell_type": "markdown",
   "metadata": {},
   "source": [
    "## Visualize results on tensorboard"
   ]
  },
  {
   "cell_type": "code",
   "execution_count": 87,
   "metadata": {},
   "outputs": [
    {
     "name": "stdout",
     "output_type": "stream",
     "text": [
      "The tensorboard extension is already loaded. To reload it, use:\n",
      "  %reload_ext tensorboard\n"
     ]
    },
    {
     "data": {
      "text/plain": [
       "Reusing TensorBoard on port 6006 (pid 7696), started 17:21:27 ago. (Use '!kill 7696' to kill it.)"
      ]
     },
     "metadata": {},
     "output_type": "display_data"
    },
    {
     "data": {
      "text/html": [
       "\n",
       "      <iframe id=\"tensorboard-frame-6a480dc77192ace2\" width=\"100%\" height=\"800\" frameborder=\"0\">\n",
       "      </iframe>\n",
       "      <script>\n",
       "        (function() {\n",
       "          const frame = document.getElementById(\"tensorboard-frame-6a480dc77192ace2\");\n",
       "          const url = new URL(\"http://localhost\");\n",
       "          const port = 6006;\n",
       "          if (port) {\n",
       "            url.port = port;\n",
       "          }\n",
       "          frame.src = url;\n",
       "        })();\n",
       "      </script>\n",
       "    "
      ],
      "text/plain": [
       "<IPython.core.display.HTML object>"
      ]
     },
     "metadata": {},
     "output_type": "display_data"
    }
   ],
   "source": [
    "%load_ext tensorboard\n",
    "%tensorboard --logdir runs\n",
    "# open http://localhost:6006/ to view the results\n"
   ]
  },
  {
   "cell_type": "code",
   "execution_count": 88,
   "metadata": {},
   "outputs": [],
   "source": [
    "#!kill 4081"
   ]
  },
  {
   "cell_type": "code",
   "execution_count": null,
   "metadata": {},
   "outputs": [],
   "source": []
  }
 ],
 "metadata": {
  "kernelspec": {
   "display_name": "Python 3.7.7 64-bit ('p37': conda)",
   "metadata": {
    "interpreter": {
     "hash": "ab66cd2a7eef53324163067b08cf46878006a1ba8ec8ccae931ca78a06f8215e"
    }
   },
   "name": "python3"
  },
  "language_info": {
   "codemirror_mode": {
    "name": "ipython",
    "version": 3
   },
   "file_extension": ".py",
   "mimetype": "text/x-python",
   "name": "python",
   "nbconvert_exporter": "python",
   "pygments_lexer": "ipython3",
   "version": "3.9.6"
  },
  "orig_nbformat": 2
 },
 "nbformat": 4,
 "nbformat_minor": 2
}
